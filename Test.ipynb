{
 "cells": [
  {
   "cell_type": "code",
   "execution_count": null,
   "metadata": {},
   "outputs": [],
   "source": [
    "#i need a script which is automating the below step, i.e. it should run the command based on the images a user has put in the destination folder which should match the format face_1 to dest_1\n",
    "\n",
    "!python extract_faces.py --video output_720p.mp4 --output images\n",
    "\n",
    "!python script.py --video example_assets/output_720p.mp4 --face images/face_0.jpg,example_assets/elon.jpg,0.2 --face images/face_1.jpg,example_assets/trump_720p.jpg,0.2 --force_cpu --colab_performance"
   ]
  },
  {
   "cell_type": "code",
   "execution_count": null,
   "metadata": {},
   "outputs": [],
   "source": [
    "import os\n",
    "import subprocess\n",
    "import argparse\n",
    "import re\n",
    "\n",
    "def run_command(command):\n",
    "    result = subprocess.run(command, shell=True, capture_output=True, text=True)\n",
    "    if result.returncode != 0:\n",
    "        print(f\"Error running command: {command}\\n{result.stderr}\")\n",
    "    else:\n",
    "        print(result.stdout)\n",
    "\n",
    "def extract_number(filename):\n",
    "    match = re.search(r'(\\d+)', filename)\n",
    "    return int(match.group(1)) if match else None\n",
    "\n",
    "def main(video_path):\n",
    "    output_folder = \"images\"\n",
    "    destination_folder = \"destinations\"\n",
    "    \n",
    "    # Step 1: Extract faces from the video\n",
    "    extract_command = f\"python extract_faces.py --video {video_path} --output {output_folder}\"\n",
    "    run_command(extract_command)\n",
    "    \n",
    "    # Step 2: Prepare the face swap command\n",
    "    face_swap_command = f\"python script.py --video {video_path}\"\n",
    "    \n",
    "    face_files = {extract_number(f): f for f in os.listdir(output_folder) if f.startswith(\"face_\") and f.endswith(\".jpg\")}\n",
    "    dest_files = {extract_number(f): f for f in os.listdir(destination_folder) if f.startswith(\"dest_\") and f.endswith(\".jpg\")}\n",
    "    \n",
    "    for number in face_files:\n",
    "        if number in dest_files:\n",
    "            face_path = os.path.join(output_folder, face_files[number])\n",
    "            dest_path = os.path.join(destination_folder, dest_files[number])\n",
    "            face_swap_command += f\" --face {face_path},{dest_path},0.2\"\n",
    "    \n",
    "    face_swap_command += \" --force_cpu --colab_performance\"\n",
    "    \n",
    "    # Step 3: Run the face swap command\n",
    "    run_command(face_swap_command)\n",
    "\n",
    "if __name__ == \"__main__\":\n",
    "    parser = argparse.ArgumentParser(description=\"Automate face extraction and swapping.\")\n",
    "    parser.add_argument(\"video_path\", type=str, help=\"Path to the input video file.\")\n",
    "    args = parser.parse_args()\n",
    "    \n",
    "    main(args.video_path)"
   ]
  },
  {
   "cell_type": "code",
   "execution_count": null,
   "metadata": {},
   "outputs": [],
   "source": []
  }
 ],
 "metadata": {
  "language_info": {
   "name": "python"
  }
 },
 "nbformat": 4,
 "nbformat_minor": 2
}
