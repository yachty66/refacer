{
 "cells": [
  {
   "cell_type": "code",
   "execution_count": null,
   "metadata": {},
   "outputs": [],
   "source": [
    "#i need a script which is automating the below step\n",
    "\n",
    "\n",
    "\n",
    "#running the faceswape with multiple faces\n",
    "!python script.py --video example_assets/output_720p.mp4 --face images/face_0.jpg,example_assets/elon.jpg,0.2 --face images/face_1.jpg,example_assets/trump_720p.jpg,0.2 --force_cpu --colab_performance"
   ]
  }
 ],
 "metadata": {
  "language_info": {
   "name": "python"
  }
 },
 "nbformat": 4,
 "nbformat_minor": 2
}
