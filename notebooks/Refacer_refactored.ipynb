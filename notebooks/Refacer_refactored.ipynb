{
 "cells": [
  {
   "cell_type": "code",
   "execution_count": null,
   "metadata": {},
   "outputs": [],
   "source": [
    "!pip uninstall numpy -y -q\n",
    "!pip install --disable-pip-version-check --root-user-action=ignore ngrok numpy==1.24.3 onnxruntime-gpu gradio insightface==0.7.3 ffmpeg_python opencv_python -q --force\n",
    "\n",
    "!git clone https://github.com/yachty66/refacer.git\n",
    "%cd refacer\n",
    "\n",
    "!wget --content-disposition \"https://huggingface.co/ezioruan/inswapper_128.onnx/resolve/main/inswapper_128.onnx\"\n",
    "\n",
    "#!apt-get update -qq\n",
    "#!apt-get install -y ffmpeg"
   ]
  },
  {
   "cell_type": "code",
   "execution_count": null,
   "metadata": {},
   "outputs": [],
   "source": [
    "#command for running the GUI\n",
    "!python app.py --share_gradio --colab_performance"
   ]
  },
  {
   "cell_type": "code",
   "execution_count": null,
   "metadata": {},
   "outputs": [],
   "source": [
    "#detecting all faces in a video and swapping them with destination images\n",
    "!python main.py example_assets/output_720p.mp4"
   ]
  }
 ],
 "metadata": {
  "language_info": {
   "name": "python"
  }
 },
 "nbformat": 4,
 "nbformat_minor": 2
}
